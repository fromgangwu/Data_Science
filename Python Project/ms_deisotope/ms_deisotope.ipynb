{
 "cells": [
  {
   "cell_type": "markdown",
   "id": "8892f6b7",
   "metadata": {},
   "source": [
    "# Load the mzxml data"
   ]
  },
  {
   "cell_type": "code",
   "execution_count": 1,
   "id": "81f87ef3",
   "metadata": {},
   "outputs": [],
   "source": [
    "import ms_deisotope\n",
    "\n",
    "# automatically determine the appropriate reader type\n",
    "# by inspecting the file\n",
    "\n",
    "reader = ms_deisotope.MSFileLoader('/home/gang/Documents/Data_Science/Python Project/ms_deisotope/923_22plus3_RM_O.mzxml')\n",
    "bunch=next(reader)"
   ]
  },
  {
   "cell_type": "markdown",
   "id": "7c764092",
   "metadata": {},
   "source": [
    "# Some initial check"
   ]
  },
  {
   "cell_type": "code",
   "execution_count": 2,
   "id": "d6ea7224",
   "metadata": {
    "scrolled": false
   },
   "outputs": [
    {
     "data": {
      "text/plain": [
       "True"
      ]
     },
     "execution_count": 2,
     "metadata": {},
     "output_type": "execute_result"
    }
   ],
   "source": [
    "# check if the MS peaks is a profile\n",
    "bunch.precursor.is_profile"
   ]
  },
  {
   "cell_type": "markdown",
   "id": "cf8796cd",
   "metadata": {},
   "source": [
    "# Centroid the peaks"
   ]
  },
  {
   "cell_type": "code",
   "execution_count": 3,
   "id": "a9d31961",
   "metadata": {
    "scrolled": false
   },
   "outputs": [
    {
     "data": {
      "text/plain": [
       "RawDataArrays(mz=array([ 999.814  ,  999.8335 ,  999.85297, ..., 7020.373  , 7020.425  ,\n",
       "       7020.4766 ], dtype=float32), intensity=array([1.4565827 , 1.1764706 , 1.1204482 , ..., 0.        , 0.11204482,\n",
       "       0.05602242], dtype=float32))"
      ]
     },
     "execution_count": 3,
     "metadata": {},
     "output_type": "execute_result"
    }
   ],
   "source": [
    "# Centroid the peaks\n",
    "bunch.precursor.pick_peaks()\n",
    "\n",
    "# check the number of peaks\n",
    "bunch.precursor.peak_set \n",
    "\n",
    "# view the peaks \n",
    "bunch.precursor.arrays"
   ]
  },
  {
   "cell_type": "markdown",
   "id": "334e17dd",
   "metadata": {},
   "source": [
    "# Deconvolute"
   ]
  },
  {
   "cell_type": "code",
   "execution_count": 4,
   "id": "ec6892c0",
   "metadata": {
    "scrolled": true
   },
   "outputs": [],
   "source": [
    "res=ms_deisotope.deconvolution.deconvolute_peaks(bunch.precursor.peak_set,\n",
    "                                             averagine=ms_deisotope.permethylated_glycan, \n",
    "                                             charge_range=(1,1),\n",
    "                                             charge_carrier=22.989769,\n",
    "                                             error_tolerance=2e-03,\n",
    "                                             scorer=ms_deisotope.MSDeconVFitter(5.))\n",
    "\n"
   ]
  },
  {
   "cell_type": "markdown",
   "id": "911158e1",
   "metadata": {},
   "source": [
    "# Obtain ms and intensity values"
   ]
  },
  {
   "cell_type": "code",
   "execution_count": 9,
   "id": "5c209fef",
   "metadata": {
    "scrolled": false
   },
   "outputs": [
    {
     "data": {
      "image/png": "[encoded data removed]",
      "text/plain": [
       "<Figure size 432x288 with 1 Axes>"
      ]
     },
     "metadata": {
      "needs_background": "light"
     },
     "output_type": "display_data"
    }
   ],
   "source": [
    "import matplotlib.pyplot as plt\n",
    "import numpy as np\n",
    "\n",
    "mz=[]\n",
    "intensity=[]\n",
    "for i in range(0,len(res[0])):\n",
    "        mz.append(res[0][i].mz)\n",
    "        intensity.append(res[0][i].intensity)\n",
    "\n",
    "plt.scatter(mz,intensity)\n",
    "plt.xlim(3500,4500)\n",
    "plt.ylim(0,420)\n",
    "plt.show()"
   ]
  },
  {
   "cell_type": "code",
   "execution_count": 6,
   "id": "7b92d25a",
   "metadata": {
    "scrolled": true
   },
   "outputs": [
    {
     "data": {
      "text/plain": [
       "array([1087.46861756, 1141.52427592, 1261.53524636, 1484.60611262,\n",
       "       1579.70178871, 1590.70780227, 1595.65892727, 1688.70679494,\n",
       "       1764.77482985, 1783.7824992 , 1784.05627295, 1794.77592754,\n",
       "       1799.75524501, 1835.81875212, 1865.83445637, 1906.84031621,\n",
       "       1951.84096783, 1968.87194162, 1981.8513473 , 1987.86754321,\n",
       "       1998.87172543, 2003.83322871, 2039.90258721, 2069.90237478,\n",
       "       2080.90701294, 2110.91831054, 2155.93541376, 2171.92626074,\n",
       "       2185.94717594, 2191.95278857, 2202.97338727, 2207.91718898,\n",
       "       2213.96040227, 2226.9449768 , 2243.97108683, 2273.9919697 ,\n",
       "       2285.00015516, 2314.99873185, 2377.02516125, 2390.030026  ,\n",
       "       2396.03778168, 2401.03265644, 2412.00152229, 2418.05583529,\n",
       "       2431.04804453, 2448.05853478, 2459.07198662, 2474.04380126,\n",
       "       2489.08076171, 2500.08049339, 2576.10453807, 2592.13504687,\n",
       "       2600.12356297, 2605.12734902, 2621.11700649, 2633.16114344,\n",
       "       2646.14713603, 2650.13305001, 2663.16142267, 2676.1620732 ,\n",
       "       2693.15448225, 2734.16972262, 2748.15662753, 2766.20941245,\n",
       "       2779.20875659, 2792.20013489, 2808.1903326 , 2820.2267367 ,\n",
       "       2825.21471192, 2837.24218865, 2850.23629458, 2861.24323018,\n",
       "       2866.22671758, 2880.24646256, 2891.23797052, 2908.26160032,\n",
       "       2939.29045023, 2953.28931927, 2966.2835596 , 2982.27237023,\n",
       "       2994.29908376, 3007.30192017, 3011.32125837, 3024.31817377,\n",
       "       3040.31780252, 3054.32153472, 3065.33635238, 3095.33127967,\n",
       "       3127.35208437, 3141.35970722, 3181.36671564, 3198.40458379,\n",
       "       3211.39415704, 3215.41000692, 3228.3943704 , 3241.39029074,\n",
       "       3256.41893089, 3269.42261979, 3286.44122285, 3299.44057229,\n",
       "       3315.44538385, 3329.43817801, 3388.49825622, 3402.49180143,\n",
       "       3415.48567964, 3430.49405908, 3443.50290329, 3460.52215924,\n",
       "       3473.52281079, 3490.53070146, 3503.53050406, 3562.57720247,\n",
       "       3576.57421755, 3589.56705029, 3602.56471213, 3617.56558623,\n",
       "       3633.60717798, 3647.61029862, 3663.60777291, 3677.61328693,\n",
       "       3690.61157241, 3735.65003173, 3750.6605156 , 3764.65534225,\n",
       "       3776.64350156, 3807.6933189 , 3821.69561689, 3834.6888383 ,\n",
       "       3838.70625466, 3851.70349409, 3864.69553741, 3909.74202475,\n",
       "       3922.73599244, 3938.74370115, 3952.73569463, 3995.77550218,\n",
       "       4008.77355893, 4012.79693814, 4025.78900686, 4039.78861045,\n",
       "       4052.77592103, 4096.82440255, 4112.81565883, 4126.8240645 ,\n",
       "       4185.87006543, 4198.8641098 , 4213.87308651, 4270.90813757,\n",
       "       4286.90368564, 4300.91201588, 4373.95927127, 4387.95238329,\n",
       "       4400.95877087, 4444.99739422, 4460.9992897 , 4474.98359724,\n",
       "       4562.05334003, 4575.02422385, 4634.08954292, 4735.12931316,\n",
       "       4749.12460196, 4923.22939403, 4936.21548545, 5110.29267459])"
      ]
     },
     "execution_count": 6,
     "metadata": {},
     "output_type": "execute_result"
    }
   ],
   "source": [
    "mz"
   ]
  },
  {
   "cell_type": "code",
   "execution_count": 7,
   "id": "7893517f",
   "metadata": {
    "scrolled": true
   },
   "outputs": [
    {
     "data": {
      "text/plain": [
       "164"
      ]
     },
     "execution_count": 7,
     "metadata": {},
     "output_type": "execute_result"
    }
   ],
   "source": [
    "len(mz)"
   ]
  },
  {
   "cell_type": "code",
   "execution_count": 8,
   "id": "b717de85",
   "metadata": {},
   "outputs": [
    {
     "data": {
      "text/plain": [
       "<matplotlib.collections.PathCollection at 0x7fa1d320bf10>"
      ]
     },
     "execution_count": 8,
     "metadata": {},
     "output_type": "execute_result"
    },
    {
     "data": {
      "image/png": "[encoded data removed]",
      "text/plain": [
       "<Figure size 432x288 with 1 Axes>"
      ]
     },
     "metadata": {
      "needs_background": "light"
     },
     "output_type": "display_data"
    }
   ],
   "source": [
    "x=[1,2,3]\n",
    "y=[4,5,6]\n",
    "plt.scatter(x,y)"
   ]
  },
  {
   "cell_type": "code",
   "execution_count": null,
   "id": "61d52905",
   "metadata": {},
   "outputs": [],
   "source": []
  }
 ],
 "metadata": {
  "kernelspec": {
   "display_name": "Python 3 (ipykernel)",
   "language": "python",
   "name": "python3"
  },
  "language_info": {
   "codemirror_mode": {
    "name": "ipython",
    "version": 3
   },
   "file_extension": ".py",
   "mimetype": "text/x-python",
   "name": "python",
   "nbconvert_exporter": "python",
   "pygments_lexer": "ipython3",
   "version": "3.8.10"
  },
  "toc": {
   "base_numbering": 1,
   "nav_menu": {},
   "number_sections": true,
   "sideBar": true,
   "skip_h1_title": false,
   "title_cell": "Table of Contents",
   "title_sidebar": "Contents",
   "toc_cell": false,
   "toc_position": {},
   "toc_section_display": true,
   "toc_window_display": false
  }
 },
 "nbformat": 4,
 "nbformat_minor": 5
}
