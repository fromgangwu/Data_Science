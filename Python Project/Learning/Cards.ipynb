{
 "cells": [
  {
   "cell_type": "code",
   "execution_count": 44,
   "metadata": {
    "code_folding": [
     0,
     31,
     35,
     50
    ],
    "scrolled": true
   },
   "outputs": [
    {
     "name": "stdout",
     "output_type": "stream",
     "text": [
      "['Ace of Diamonds', '5 of Clubs', '5 of Spades', '5 of Diamonds', 'Jack of Diamonds'] \n",
      " \n",
      " ['Queen of Clubs', 'Jack of Spades', '8 of Diamonds', '2 of Clubs', '4 of Spades'] \n",
      " \n",
      " ['7 of Clubs', 'King of Spades', '6 of Spades', '7 of Diamonds', 'Queen of Diamonds', '5 of Hearts', '4 of Diamonds', '3 of Spades', '8 of Clubs', 'King of Hearts', '3 of Diamonds', 'Ace of Spades', '10 of Spades', '4 of Hearts', '2 of Spades', 'Queen of Hearts', 'Jack of Clubs', '6 of Diamonds', '2 of Diamonds', '7 of Hearts', '9 of Spades', '3 of Hearts', '6 of Clubs', '10 of Clubs', '7 of Spades', '9 of Diamonds', 'Jack of Hearts', 'Ace of Hearts', '4 of Clubs', '9 of Clubs', '6 of Hearts', '2 of Hearts', 'King of Diamonds', 'Ace of Clubs', '8 of Spades', '10 of Hearts', '9 of Hearts', '10 of Diamonds', 'Queen of Spades', '8 of Hearts', 'King of Clubs', '3 of Clubs'] \n",
      " 42\n"
     ]
    },
    {
     "ename": "TypeError",
     "evalue": "'<' not supported between instances of 'Hand' and 'Hand'",
     "output_type": "error",
     "traceback": [
      "\u001b[0;31m---------------------------------------------------------------------------\u001b[0m",
      "\u001b[0;31mTypeError\u001b[0m                                 Traceback (most recent call last)",
      "Input \u001b[0;32mIn [44]\u001b[0m, in \u001b[0;36m<module>\u001b[0;34m\u001b[0m\n\u001b[1;32m     67\u001b[0m P_2\u001b[38;5;241m.\u001b[39mget_cards(deck,\u001b[38;5;241m5\u001b[39m)\n\u001b[1;32m     68\u001b[0m \u001b[38;5;28mprint\u001b[39m(P_1\u001b[38;5;241m.\u001b[39mcards,\u001b[38;5;124m'\u001b[39m\u001b[38;5;130;01m\\n\u001b[39;00m\u001b[38;5;124m'\u001b[39m,\u001b[38;5;124m'\u001b[39m\u001b[38;5;130;01m\\n\u001b[39;00m\u001b[38;5;124m'\u001b[39m, P_2\u001b[38;5;241m.\u001b[39mcards,\u001b[38;5;124m'\u001b[39m\u001b[38;5;130;01m\\n\u001b[39;00m\u001b[38;5;124m'\u001b[39m ,\u001b[38;5;124m'\u001b[39m\u001b[38;5;130;01m\\n\u001b[39;00m\u001b[38;5;124m'\u001b[39m, deck\u001b[38;5;241m.\u001b[39mcards, \u001b[38;5;124m'\u001b[39m\u001b[38;5;130;01m\\n\u001b[39;00m\u001b[38;5;124m'\u001b[39m, \u001b[38;5;28mlen\u001b[39m(deck\u001b[38;5;241m.\u001b[39mcards))\n\u001b[0;32m---> 69\u001b[0m \u001b[43mP_1\u001b[49m\u001b[38;5;241;43m<\u001b[39;49m\u001b[43mP_2\u001b[49m\n",
      "\u001b[0;31mTypeError\u001b[0m: '<' not supported between instances of 'Hand' and 'Hand'"
     ]
    }
   ],
   "source": [
    "class Card:\n",
    "    \n",
    "    '''Represent standard playing cards'''\n",
    "    \n",
    "    suit_names=['Clubs', 'Diamonds', 'Hearts', 'Spades']\n",
    "    rank_names=[None, 'Ace', '2', '3', '4', '5', '6', '7', \n",
    "              '8', '9', '10', 'Jack', 'Queen', 'King']\n",
    "    \n",
    "    def __init__(self, suit=1, rank=1):\n",
    "        self.suit=self.suit_names[suit]\n",
    "        self.rank=self.rank_names[rank]\n",
    "        self.suit_no=suit\n",
    "        self.rank_no=rank\n",
    "    \n",
    "    def __str__ (self):\n",
    "        return '{} of {}'.format(self.rank, self.suit)\n",
    "    \n",
    "    # compare cards, suit priotize rank\n",
    "    def __lt__(self,other):\n",
    "        if self.suit_no<other.suit_no:\n",
    "            return True\n",
    "        elif self.suit_no>other.suit_no:\n",
    "            return False\n",
    "        elif self.suit_no==other.suit_no:\n",
    "            if self.rank_no<other.rank_no:\n",
    "                return True\n",
    "            elif self.rank_no==other.rank_no:\n",
    "                return 'Same'\n",
    "            else:\n",
    "                return False\n",
    "\n",
    "class Deck:\n",
    "    \n",
    "    '''show a deck of card'''\n",
    "    \n",
    "    def __init__(self):\n",
    "        self.cards=[]\n",
    "        for suit in range(4):\n",
    "            for rank in range(1,14):\n",
    "                card=Card(suit,rank)\n",
    "                self.cards.append(str(card))\n",
    "    def __str__(self):\n",
    "        return str(self.cards)\n",
    "    \n",
    "    def pop_card(self):\n",
    "        return self.cards.pop()\n",
    "    \n",
    "    def shuffle(self):\n",
    "        random.shuffle(self.cards)\n",
    "\n",
    "class Hand(Deck):\n",
    "    '''Playing cards in hand'''\n",
    "    def __init__(self, label=''):\n",
    "        self.cards=[]\n",
    "        self.label=label\n",
    "    def get_cards(self, deck, num):\n",
    "        for i in range(num):\n",
    "            self.cards.append(deck.pop_card())\n",
    "\n",
    "import random\n",
    "\n",
    "deck=Deck()\n",
    "P_1=Hand()\n",
    "P_2=Hand()\n",
    "deck.shuffle()\n",
    "P_1.get_cards(deck, 5)\n",
    "P_2.get_cards(deck,5)\n",
    "print(P_1.cards,'\\n','\\n', P_2.cards,'\\n' ,'\\n', deck.cards, '\\n', len(deck.cards))\n",
    "P_1<P_2"
   ]
  }
 ],
 "metadata": {
  "kernelspec": {
   "display_name": "Python 3 (ipykernel)",
   "language": "python",
   "name": "python3"
  },
  "language_info": {
   "codemirror_mode": {
    "name": "ipython",
    "version": 3
   },
   "file_extension": ".py",
   "mimetype": "text/x-python",
   "name": "python",
   "nbconvert_exporter": "python",
   "pygments_lexer": "ipython3",
   "version": "3.8.10"
  },
  "toc": {
   "base_numbering": 1,
   "nav_menu": {},
   "number_sections": true,
   "sideBar": true,
   "skip_h1_title": false,
   "title_cell": "Table of Contents",
   "title_sidebar": "Contents",
   "toc_cell": false,
   "toc_position": {},
   "toc_section_display": true,
   "toc_window_display": false
  }
 },
 "nbformat": 4,
 "nbformat_minor": 4
}
