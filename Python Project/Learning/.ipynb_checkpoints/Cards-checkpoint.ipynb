{
 "cells": [
  {
   "cell_type": "code",
   "execution_count": 1,
   "metadata": {
    "code_folding": [
     5,
     35
    ],
    "scrolled": true
   },
   "outputs": [
    {
     "name": "stdout",
     "output_type": "stream",
     "text": [
      "['Ace of Diamonds', '2 of Diamonds', 'Ace of Clubs', '10 of Clubs', '10 of Diamonds'] \n",
      " \n",
      " ['5 of Diamonds', '5 of Hearts', 'Jack of Hearts', '4 of Hearts', '2 of Spades'] \n",
      " \n",
      " ['8 of Clubs', '8 of Hearts', 'King of Diamonds', '7 of Hearts', '3 of Spades', '9 of Clubs', '7 of Clubs', '2 of Clubs', '3 of Clubs', '6 of Diamonds', '6 of Hearts', 'Jack of Diamonds', '8 of Diamonds', '6 of Spades', '4 of Diamonds', 'King of Spades', '9 of Spades', 'Queen of Hearts', '10 of Spades', '4 of Clubs', 'King of Clubs', 'Ace of Hearts', '3 of Diamonds', '5 of Clubs', 'Ace of Spades', 'Jack of Clubs', 'King of Hearts', '6 of Clubs', '2 of Hearts', '7 of Spades', '3 of Hearts', '7 of Diamonds', '4 of Spades', '5 of Spades', '8 of Spades', 'Jack of Spades', 'Queen of Clubs', '10 of Hearts', '9 of Diamonds', '9 of Hearts', 'Queen of Diamonds', 'Queen of Spades'] \n",
      " 42\n"
     ]
    }
   ],
   "source": [
    "class Card:\n",
    "    \n",
    "    '''Represent standard playing cards'''\n",
    "    \n",
    "    suit_names=['Clubs', 'Diamonds', 'Hearts', 'Spades']\n",
    "    rank_names=[None, 'Ace', '2', '3', '4', '5', '6', '7', \n",
    "              '8', '9', '10', 'Jack', 'Queen', 'King']\n",
    "    \n",
    "    def __init__(self, suit=1, rank=1):\n",
    "        self.suit=self.suit_names[suit]\n",
    "        self.rank=self.rank_names[rank]\n",
    "        self.suit_no=suit\n",
    "        self.rank_no=rank\n",
    "    \n",
    "    def __str__ (self):\n",
    "        return '{} of {}'.format(self.rank, self.suit)\n",
    "    \n",
    "    # compare cards, suit priotize rank\n",
    "    def __lt__(self,other):\n",
    "        if self.suit_no<other.suit_no:\n",
    "            return True\n",
    "        elif self.suit_no>other.suit_no:\n",
    "            return False\n",
    "        elif self.suit_no==other.suit_no:\n",
    "            if self.rank_no<other.rank_no:\n",
    "                return True\n",
    "            elif self.rank_no==other.rank_no:\n",
    "                return 'Same'\n",
    "            else:\n",
    "                return False\n",
    "\n",
    "class Deck:\n",
    "    \n",
    "    '''show a deck of card'''\n",
    "    \n",
    "    def __init__(self):\n",
    "        self.cards=[]\n",
    "        for suit in range(4):\n",
    "            for rank in range(1,14):\n",
    "                card=Card(suit,rank)\n",
    "                self.cards.append(str(card))\n",
    "    def __str__(self):\n",
    "        return str(self.cards)\n",
    "    \n",
    "    def pop_card(self):\n",
    "        return self.cards.pop()\n",
    "    \n",
    "    def shuffle(self):\n",
    "        random.shuffle(self.cards)\n",
    "\n",
    "class Hand(Deck):\n",
    "    '''Playing cards in hand'''\n",
    "    def __init__(self, label=''):\n",
    "        self.cards=[]\n",
    "        self.label=label\n",
    "    def get_cards(self, deck, num):\n",
    "        for i in range(num):\n",
    "            self.cards.append(deck.pop_card())\n",
    "\n",
    "import random\n",
    "\n",
    "deck=Deck()\n",
    "P_1=Hand()\n",
    "P_2=Hand()\n",
    "deck.shuffle()\n",
    "P_1.get_cards(deck, 5)\n",
    "P_2.get_cards(deck,5)\n",
    "print(P_1.cards,'\\n','\\n', P_2.cards,'\\n' ,'\\n', deck.cards, '\\n', len(deck.cards))"
   ]
  },
  {
   "cell_type": "code",
   "execution_count": null,
   "metadata": {},
   "outputs": [],
   "source": []
  }
 ],
 "metadata": {
  "kernelspec": {
   "display_name": "Python 3 (ipykernel)",
   "language": "python",
   "name": "python3"
  },
  "language_info": {
   "codemirror_mode": {
    "name": "ipython",
    "version": 3
   },
   "file_extension": ".py",
   "mimetype": "text/x-python",
   "name": "python",
   "nbconvert_exporter": "python",
   "pygments_lexer": "ipython3",
   "version": "3.8.10"
  },
  "toc": {
   "base_numbering": 1,
   "nav_menu": {},
   "number_sections": true,
   "sideBar": true,
   "skip_h1_title": false,
   "title_cell": "Table of Contents",
   "title_sidebar": "Contents",
   "toc_cell": false,
   "toc_position": {},
   "toc_section_display": true,
   "toc_window_display": false
  }
 },
 "nbformat": 4,
 "nbformat_minor": 4
}
