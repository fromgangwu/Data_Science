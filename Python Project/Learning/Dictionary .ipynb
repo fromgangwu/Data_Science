{
 "cells": [
  {
   "cell_type": "markdown",
   "id": "107bf300",
   "metadata": {},
   "source": [
    "# Create a dictinary "
   ]
  },
  {
   "cell_type": "code",
   "execution_count": 16,
   "id": "fc5a1028",
   "metadata": {
    "scrolled": true
   },
   "outputs": [],
   "source": [
    "# Create a dictionay\n",
    "mzdata={'mass':[1,2,3], 'intensity':[10,20,30], 'Sample name': [983]*3, 'Sample collection time': ['15plus5']*3}"
   ]
  },
  {
   "cell_type": "markdown",
   "id": "da64dc9c",
   "metadata": {},
   "source": [
    "# Access, mutate"
   ]
  },
  {
   "cell_type": "code",
   "execution_count": 17,
   "id": "6f73e1c1",
   "metadata": {},
   "outputs": [
    {
     "name": "stdout",
     "output_type": "stream",
     "text": [
      "[1, 2, 3]\n",
      "[4, 5, 6]\n"
     ]
    }
   ],
   "source": [
    "print(mzdata['mass'])\n",
    "mzdata['mass']=[4,5,6]\n",
    "print(mzdata['mass'])"
   ]
  },
  {
   "cell_type": "markdown",
   "id": "06cb2ea8",
   "metadata": {},
   "source": [
    "# Build a dataframe, store as csv "
   ]
  },
  {
   "cell_type": "code",
   "execution_count": 23,
   "id": "930c052f",
   "metadata": {},
   "outputs": [],
   "source": [
    "import pandas\n",
    "ans=pandas.DataFrame(mzdata)\n",
    "ans=ans.to_csv()\n",
    "\n",
    "fh=open('mass data.csv', 'w')\n",
    "fh.write(ans)\n",
    "fh.close()\n"
   ]
  },
  {
   "cell_type": "code",
   "execution_count": 15,
   "id": "f3f64d6e",
   "metadata": {
    "scrolled": true
   },
   "outputs": [
    {
     "data": {
      "text/plain": [
       "['g', 'g', 'g']"
      ]
     },
     "execution_count": 15,
     "metadata": {},
     "output_type": "execute_result"
    }
   ],
   "source": [
    "['g']*3"
   ]
  },
  {
   "cell_type": "code",
   "execution_count": null,
   "id": "6a6d6f8e",
   "metadata": {},
   "outputs": [],
   "source": []
  }
 ],
 "metadata": {
  "kernelspec": {
   "display_name": "Python 3 (ipykernel)",
   "language": "python",
   "name": "python3"
  },
  "language_info": {
   "codemirror_mode": {
    "name": "ipython",
    "version": 3
   },
   "file_extension": ".py",
   "mimetype": "text/x-python",
   "name": "python",
   "nbconvert_exporter": "python",
   "pygments_lexer": "ipython3",
   "version": "3.9.7"
  }
 },
 "nbformat": 4,
 "nbformat_minor": 5
}
