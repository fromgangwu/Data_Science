{
 "cells": [
  {
   "cell_type": "code",
   "execution_count": 17,
   "id": "41ef75f0",
   "metadata": {
    "code_folding": []
   },
   "outputs": [
    {
     "name": "stdout",
     "output_type": "stream",
     "text": [
      "16\n",
      "None\n",
      "[1, 2, 3, 'Hello World']\n"
     ]
    }
   ],
   "source": [
    "# If you want a small and simple function that has only one expression,\n",
    "# Lambda is a much better choice than defining a function in a standard way \n",
    "\n",
    "# Syntax: lambda argument: expression\n",
    "# The argements are not in a bracket, this is different from normal function def\n",
    "\n",
    "# Example 1 \n",
    "x=lambda x,y,z: x+y*z\n",
    "print(x(10,2,3))\n",
    "\n",
    "# Example 2: if the expression does not return anything, \n",
    "# lambda will not return antying either \n",
    "x=lambda x,y: x.append(y)\n",
    "y=x([1,2,3],'Hello World')\n",
    "print(y)\n",
    "\n",
    "# See how this one is different from example 2\n",
    "x=lambda x,y: x+y\n",
    "print(x([1,2,3],['Hello World']))"
   ]
  },
  {
   "cell_type": "code",
   "execution_count": null,
   "id": "5d8d0fc5",
   "metadata": {},
   "outputs": [],
   "source": []
  }
 ],
 "metadata": {
  "kernelspec": {
   "display_name": "Python 3 (ipykernel)",
   "language": "python",
   "name": "python3"
  },
  "language_info": {
   "codemirror_mode": {
    "name": "ipython",
    "version": 3
   },
   "file_extension": ".py",
   "mimetype": "text/x-python",
   "name": "python",
   "nbconvert_exporter": "python",
   "pygments_lexer": "ipython3",
   "version": "3.8.10"
  },
  "toc": {
   "base_numbering": 1,
   "nav_menu": {},
   "number_sections": true,
   "sideBar": true,
   "skip_h1_title": false,
   "title_cell": "Table of Contents",
   "title_sidebar": "Contents",
   "toc_cell": false,
   "toc_position": {},
   "toc_section_display": true,
   "toc_window_display": false
  }
 },
 "nbformat": 4,
 "nbformat_minor": 5
}
