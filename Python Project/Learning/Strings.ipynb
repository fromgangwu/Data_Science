{
 "cells": [
  {
   "cell_type": "markdown",
   "id": "5701cc55",
   "metadata": {},
   "source": [
    "# Slicing, concatenate"
   ]
  },
  {
   "cell_type": "code",
   "execution_count": 20,
   "id": "3fe8779c",
   "metadata": {
    "scrolled": true
   },
   "outputs": [
    {
     "name": "stdout",
     "output_type": "stream",
     "text": [
      "t\n",
      "g\n",
      "th\n",
      "gnirts a si siht\n",
      "gnirts a si siht\n"
     ]
    }
   ],
   "source": [
    "# slicing strings, the index starts from 0, can be negative\n",
    "a='this is a string'\n",
    "print(a[0])\n",
    "print(a[-1])\n",
    "\n",
    "# string slicing does not include the right index\n",
    "print(a[0:2]) # only position 0 and position 1 is sliced\n",
    "\n",
    "\n",
    "# reverse the string, using concatenate\n",
    "# note that range(a,b) does not include b. \n",
    "ans=''\n",
    "for i in range(-1,-len(a)-1,-1):\n",
    "    ans=ans+a[i]\n",
    "print(ans)\n",
    "\n",
    "\n",
    "# another way to reverse the string \n",
    "ans=''\n",
    "i=-1\n",
    "while i>=-len(a):\n",
    "    ans=ans+a[i]\n",
    "    i=i-1\n",
    "print(ans)\n",
    "\n",
    "\n",
    "\n",
    "    "
   ]
  },
  {
   "cell_type": "markdown",
   "id": "4d4ec48c",
   "metadata": {},
   "source": [
    "# Membership, search"
   ]
  },
  {
   "cell_type": "code",
   "execution_count": 62,
   "id": "5429b017",
   "metadata": {
    "scrolled": true
   },
   "outputs": [
    {
     "name": "stdout",
     "output_type": "stream",
     "text": [
      "True\n",
      "False\n",
      "3\n",
      "[3, 2, 3, -1, -1, -1, -1, -1, -1, -1, -1, -1, -1, -1, -1, -1]\n"
     ]
    }
   ],
   "source": [
    "# membership\n",
    "a='this is a string'\n",
    "print('th' in a)\n",
    "print('aa' in a)\n",
    "\n",
    "# search, returns the index of first finding\n",
    "print(a.find('s'))\n",
    "\n",
    "# how to find the index of all findings?\n",
    "i=0\n",
    "ans=[]\n",
    "b=a\n",
    "while i<len(a):\n",
    "    ans.append(b.find('s'))\n",
    "    b=b[ans[-1]+1:]\n",
    "    i=i+1\n",
    "print(ans)"
   ]
  },
  {
   "cell_type": "markdown",
   "id": "1fd6b19e",
   "metadata": {},
   "source": [
    "\n",
    "# Remove whitespace"
   ]
  },
  {
   "cell_type": "code",
   "execution_count": 26,
   "id": "5a9fac95",
   "metadata": {},
   "outputs": [
    {
     "name": "stdout",
     "output_type": "stream",
     "text": [
      "16 18\n"
     ]
    }
   ],
   "source": [
    "# keep in mind that string is not mutable\n",
    "# the method does not change the original string but returns a new string\n",
    "a=' this is a string '\n",
    "print(len(a.strip()), len(a))\n",
    "\n",
    "# there are also lstrip() and rstrip() methods to remove left and right whitespace "
   ]
  },
  {
   "cell_type": "markdown",
   "id": "000c4c6d",
   "metadata": {},
   "source": [
    "# Split"
   ]
  },
  {
   "cell_type": "code",
   "execution_count": 34,
   "id": "c9279f81",
   "metadata": {
    "scrolled": false
   },
   "outputs": [
    {
     "data": {
      "text/plain": [
       "[' th', ' ', ' a string ']"
      ]
     },
     "execution_count": 34,
     "metadata": {},
     "output_type": "execute_result"
    }
   ],
   "source": [
    "# the default separator is whitespace.The method returns a list. \n",
    "a=' this is a string '\n",
    "a.split('is')"
   ]
  },
  {
   "cell_type": "markdown",
   "id": "8b68dbcb",
   "metadata": {},
   "source": [
    "# Replace "
   ]
  },
  {
   "cell_type": "code",
   "execution_count": 38,
   "id": "1870815e",
   "metadata": {},
   "outputs": [
    {
     "data": {
      "text/plain": [
       "'This is a sTring'"
      ]
     },
     "execution_count": 38,
     "metadata": {},
     "output_type": "execute_result"
    }
   ],
   "source": [
    "# keep in mind that string is not mutable\n",
    "# a new string will be produced\n",
    "a='this is a string'\n",
    "a.replace('t', 'T')"
   ]
  },
  {
   "cell_type": "markdown",
   "id": "d585546c",
   "metadata": {},
   "source": [
    "# Insertion"
   ]
  },
  {
   "cell_type": "code",
   "execution_count": 39,
   "id": "373b6616",
   "metadata": {},
   "outputs": [
    {
     "data": {
      "text/plain": [
       "'this is a good string!'"
      ]
     },
     "execution_count": 39,
     "metadata": {},
     "output_type": "execute_result"
    }
   ],
   "source": [
    "# using the format method\n",
    "'this is a {} string{}'.format('good','!')"
   ]
  },
  {
   "cell_type": "code",
   "execution_count": 61,
   "id": "97189aec",
   "metadata": {},
   "outputs": [
    {
     "data": {
      "text/plain": [
       "1"
      ]
     },
     "execution_count": 61,
     "metadata": {},
     "output_type": "execute_result"
    }
   ],
   "source": [
    "ans='string'\n",
    "len(ans[5:])"
   ]
  },
  {
   "cell_type": "code",
   "execution_count": null,
   "id": "80527373",
   "metadata": {},
   "outputs": [],
   "source": []
  }
 ],
 "metadata": {
  "kernelspec": {
   "display_name": "Python 3 (ipykernel)",
   "language": "python",
   "name": "python3"
  },
  "language_info": {
   "codemirror_mode": {
    "name": "ipython",
    "version": 3
   },
   "file_extension": ".py",
   "mimetype": "text/x-python",
   "name": "python",
   "nbconvert_exporter": "python",
   "pygments_lexer": "ipython3",
   "version": "3.8.10"
  },
  "toc": {
   "base_numbering": 1,
   "nav_menu": {},
   "number_sections": true,
   "sideBar": true,
   "skip_h1_title": false,
   "title_cell": "Table of Contents",
   "title_sidebar": "Contents",
   "toc_cell": false,
   "toc_position": {},
   "toc_section_display": true,
   "toc_window_display": false
  }
 },
 "nbformat": 4,
 "nbformat_minor": 5
}
