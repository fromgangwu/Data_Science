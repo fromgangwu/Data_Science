{
 "cells": [
  {
   "cell_type": "markdown",
   "metadata": {},
   "source": [
    "# String Concatenation"
   ]
  },
  {
   "cell_type": "code",
   "execution_count": null,
   "metadata": {},
   "outputs": [],
   "source": [
    "given_name='John'\n",
    "family_name='Smith'\n",
    "full_name=given_name + ' ' + family_name\n",
    "print(full_name)\n"
   ]
  },
  {
   "cell_type": "markdown",
   "metadata": {},
   "source": [
    "# Formatting strings"
   ]
  },
  {
   "cell_type": "code",
   "execution_count": null,
   "metadata": {},
   "outputs": [],
   "source": [
    "# Injecting variables using .format()\n",
    "give_name='John'\n",
    "print('My given name is {}'.format(given_name))"
   ]
  },
  {
   "cell_type": "markdown",
   "metadata": {},
   "source": [
    "# String index"
   ]
  },
  {
   "cell_type": "code",
   "execution_count": 1,
   "metadata": {},
   "outputs": [
    {
     "name": "stdout",
     "output_type": "stream",
     "text": [
      "J\n",
      "h\n",
      "t\n"
     ]
    }
   ],
   "source": [
    "# string indexing starts from 0\n",
    "full_name='John Smith'\n",
    "print(full_name[0])\n",
    "\n",
    "# minus indexing starts from the end \n",
    "print(full_name[-1])\n",
    "print(full_name[-2])"
   ]
  },
  {
   "cell_type": "markdown",
   "metadata": {},
   "source": [
    "# String slicing"
   ]
  },
  {
   "cell_type": "code",
   "execution_count": 2,
   "metadata": {
    "scrolled": true
   },
   "outputs": [
    {
     "name": "stdout",
     "output_type": "stream",
     "text": [
      "Joh\n",
      "Jh m\n"
     ]
    }
   ],
   "source": [
    "# [start:stop]\n",
    "full_name='John Smith'\n",
    "print(full_name[0:3]) # Be aware that 'J', 'o' and 'h' are indexed. The 'n' is not indexed.\n",
    "\n",
    "# [start:stop:step]\n",
    "print(full_name[0:7:2])"
   ]
  },
  {
   "cell_type": "markdown",
   "metadata": {},
   "source": [
    "# String manipulation"
   ]
  },
  {
   "cell_type": "code",
   "execution_count": null,
   "metadata": {
    "scrolled": true
   },
   "outputs": [],
   "source": [
    "# Make a string a name or title: .title()\n",
    "name='john smith'\n",
    "print(name.title())\n",
    "\n",
    "name='imperial college london'\n",
    "print(name.title())\n",
    "\n",
    "\n",
    "# Find and replace: .replace()\n",
    "animal='goose'\n",
    "print(animal.replace('o','e'))\n",
    "\n",
    "\n",
    "# Find the starting index: .find()\n",
    "animal='goose'\n",
    "print(animal.find('o'))\n",
    "\n",
    "\n",
    "# Remove white space: .strip(). The space between 2 words are not white space. \n",
    "name='    Imperial College London'\n",
    "print(name)\n",
    "print(name.strip())\n",
    "print(name.lstrip()) # l stands for left\n",
    "print(name.rstrip()) # r stands for right\n",
    "\n",
    "\n",
    "# Split: .split()\n",
    "name='Imperial College London'\n",
    "print(name.split(' '))\n",
    "print(name.split('o'))"
   ]
  },
  {
   "cell_type": "markdown",
   "metadata": {},
   "source": [
    "# User input"
   ]
  },
  {
   "cell_type": "code",
   "execution_count": null,
   "metadata": {},
   "outputs": [],
   "source": [
    "ans=input('Please enter your name:\\n')\n",
    "print('The name you entered is {}'.format(ans))"
   ]
  }
 ],
 "metadata": {
  "kernelspec": {
   "display_name": "Python 3",
   "language": "python",
   "name": "python3"
  },
  "language_info": {
   "codemirror_mode": {
    "name": "ipython",
    "version": 3
   },
   "file_extension": ".py",
   "mimetype": "text/x-python",
   "name": "python",
   "nbconvert_exporter": "python",
   "pygments_lexer": "ipython3",
   "version": "3.8.5"
  },
  "toc": {
   "base_numbering": 1,
   "nav_menu": {},
   "number_sections": true,
   "sideBar": true,
   "skip_h1_title": false,
   "title_cell": "Table of Contents",
   "title_sidebar": "Contents",
   "toc_cell": false,
   "toc_position": {},
   "toc_section_display": true,
   "toc_window_display": true
  }
 },
 "nbformat": 4,
 "nbformat_minor": 4
}
