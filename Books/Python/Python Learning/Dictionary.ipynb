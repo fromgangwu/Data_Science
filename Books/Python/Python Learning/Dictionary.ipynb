{
 "cells": [
  {
   "cell_type": "markdown",
   "metadata": {},
   "source": [
    "# Keys can only be numbers or strings, value can be anything"
   ]
  },
  {
   "cell_type": "code",
   "execution_count": null,
   "metadata": {
    "code_folding": []
   },
   "outputs": [],
   "source": [
    "# Declaring a dictionary\n",
    "dic_1={1:True, 0:False, 'good':True, 'bad':False, 'list':[1,2,3]}\n",
    "\n",
    "print(dic_1[1],dic_1['list'])\n",
    "print(dic_1.keys())"
   ]
  },
  {
   "cell_type": "markdown",
   "metadata": {},
   "source": [
    "# Dictionaries can be put into a list"
   ]
  },
  {
   "cell_type": "code",
   "execution_count": null,
   "metadata": {},
   "outputs": [],
   "source": [
    "list_1=[1,1, {'name':'John', 'age':13}]\n",
    "print(list_1[0])\n",
    "print(list_1[2]['name'])"
   ]
  },
  {
   "cell_type": "markdown",
   "metadata": {},
   "source": [
    "# Dictionaries can be put into a dictionary"
   ]
  },
  {
   "cell_type": "code",
   "execution_count": null,
   "metadata": {},
   "outputs": [],
   "source": [
    "dic_1={1:2,'another':{1:'good','age':19}}\n",
    "print(dic_1['another']['age'])"
   ]
  },
  {
   "cell_type": "markdown",
   "metadata": {},
   "source": [
    "# Add, remove and mutate"
   ]
  },
  {
   "cell_type": "code",
   "execution_count": null,
   "metadata": {},
   "outputs": [],
   "source": [
    "dic_1={'given name':'John','family name':'Smith'}\n",
    "print(dic_1)\n",
    "\n",
    "# Add\n",
    "dic_1['age']=33\n",
    "print(dic_1)\n",
    "\n",
    "# Remove\n",
    "del dic_1['age']\n",
    "print(dic_1)\n",
    "\n",
    "# Mutate\n",
    "dic_1['given name']='Hammer'\n",
    "print(dic_1)"
   ]
  },
  {
   "cell_type": "markdown",
   "metadata": {},
   "source": [
    "# Looping a dictionary"
   ]
  },
  {
   "cell_type": "code",
   "execution_count": null,
   "metadata": {
    "hide_input": false
   },
   "outputs": [],
   "source": [
    "dic_1={'given name':'John','family name':'Smith'}\n",
    "\n",
    "# Loopint by keys\n",
    "for keys in dic_1.keys():\n",
    "    print('{}--{}'.format(keys, dic_1[keys]))\n",
    "    \n",
    "# Looping by values\n",
    "for values in dic_1.values():\n",
    "    print(values)\n",
    "    \n",
    "# Looping by both \n",
    "for keys, values in dic_1.items():\n",
    "    print('{}-----{}'.format(keys, values))\n"
   ]
  },
  {
   "cell_type": "markdown",
   "metadata": {},
   "source": [
    "# Membership "
   ]
  },
  {
   "cell_type": "code",
   "execution_count": 1,
   "metadata": {},
   "outputs": [
    {
     "name": "stdout",
     "output_type": "stream",
     "text": [
      "True False\n"
     ]
    }
   ],
   "source": [
    "dic_1={'given name':'John','family name':'Smith'}\n",
    "print('given name' in dic_1, 'John' in dic_1)"
   ]
  },
  {
   "cell_type": "code",
   "execution_count": 7,
   "metadata": {},
   "outputs": [
    {
     "data": {
      "text/plain": [
       "True"
      ]
     },
     "execution_count": 7,
     "metadata": {},
     "output_type": "execute_result"
    }
   ],
   "source": [
    "dic_1={'given name':'John','family name':'Smith'}\n",
    "key=dic_1.keys()\n",
    "'given name' in key"
   ]
  },
  {
   "cell_type": "code",
   "execution_count": null,
   "metadata": {},
   "outputs": [],
   "source": []
  }
 ],
 "metadata": {
  "kernelspec": {
   "display_name": "Python 3",
   "language": "python",
   "name": "python3"
  },
  "language_info": {
   "codemirror_mode": {
    "name": "ipython",
    "version": 3
   },
   "file_extension": ".py",
   "mimetype": "text/x-python",
   "name": "python",
   "nbconvert_exporter": "python",
   "pygments_lexer": "ipython3",
   "version": "3.8.5"
  },
  "toc": {
   "base_numbering": 1,
   "nav_menu": {},
   "number_sections": true,
   "sideBar": true,
   "skip_h1_title": false,
   "title_cell": "Table of Contents",
   "title_sidebar": "Contents",
   "toc_cell": false,
   "toc_position": {
    "height": "calc(100% - 180px)",
    "left": "10px",
    "top": "150px",
    "width": "234.276px"
   },
   "toc_section_display": true,
   "toc_window_display": true
  }
 },
 "nbformat": 4,
 "nbformat_minor": 4
}
