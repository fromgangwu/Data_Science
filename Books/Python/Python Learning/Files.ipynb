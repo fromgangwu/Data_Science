{
 "cells": [
  {
   "cell_type": "markdown",
   "metadata": {},
   "source": [
    "# Open a file"
   ]
  },
  {
   "cell_type": "code",
   "execution_count": 6,
   "metadata": {},
   "outputs": [
    {
     "name": "stdout",
     "output_type": "stream",
     "text": [
      "This is an example file.\n",
      "\n",
      "This is used for test only\n",
      "\n"
     ]
    }
   ],
   "source": [
    "# Open a file. This in fact creates a file handle\n",
    "fhand = open ('file example.txt')"
   ]
  },
  {
   "cell_type": "markdown",
   "metadata": {},
   "source": [
    "# Read a file"
   ]
  },
  {
   "cell_type": "code",
   "execution_count": 23,
   "metadata": {
    "code_folding": []
   },
   "outputs": [
    {
     "name": "stdout",
     "output_type": "stream",
     "text": [
      "user@gmail.com\n",
      "\n"
     ]
    },
    {
     "data": {
      "text/plain": [
       "'This is an example file.\\nThis is used for test only\\nuser@gmail.com\\nFrom ........... to.........\\n'"
      ]
     },
     "execution_count": 23,
     "metadata": {},
     "output_type": "execute_result"
    }
   ],
   "source": [
    "# File can be read line by line using a for loop\n",
    "fhand=open('file example.txt')\n",
    "for line in fhand:\n",
    "    if '@' in line:\n",
    "        print(line)\n",
    "\n",
    "# Read all the content into one string\n",
    "fhand=open('file example.txt')\n",
    "content=fhand.read()\n",
    "content"
   ]
  },
  {
   "cell_type": "markdown",
   "metadata": {},
   "source": [
    "# Remove the /n from the end of each line"
   ]
  },
  {
   "cell_type": "code",
   "execution_count": 28,
   "metadata": {},
   "outputs": [
    {
     "data": {
      "text/plain": [
       "['This is an example file.',\n",
       " 'This is used for test only',\n",
       " 'user@gmail.com',\n",
       " 'From ........... to.........']"
      ]
     },
     "execution_count": 28,
     "metadata": {},
     "output_type": "execute_result"
    }
   ],
   "source": [
    "fhand=open('file example.txt')\n",
    "content=[]\n",
    "for line in fhand:\n",
    "    content.append(line.rstrip())\n",
    "content"
   ]
  },
  {
   "cell_type": "markdown",
   "metadata": {},
   "source": [
    "# Search lines start with certain value"
   ]
  },
  {
   "cell_type": "code",
   "execution_count": 22,
   "metadata": {},
   "outputs": [
    {
     "name": "stdout",
     "output_type": "stream",
     "text": [
      "From ........... to.........\n",
      "\n"
     ]
    }
   ],
   "source": [
    "fhand=open('file example.txt')\n",
    "for line in fhand:\n",
    "    if line.startswith('From'):\n",
    "        print(line)"
   ]
  },
  {
   "cell_type": "markdown",
   "metadata": {},
   "source": [
    "# Write files, old content erased"
   ]
  },
  {
   "cell_type": "code",
   "execution_count": 38,
   "metadata": {},
   "outputs": [
    {
     "data": {
      "text/plain": [
       "'This line was added from python writing'"
      ]
     },
     "execution_count": 38,
     "metadata": {},
     "output_type": "execute_result"
    }
   ],
   "source": [
    "# Get the file handle in writing mode\n",
    "fhand=open('file example.txt', 'w')\n",
    "\n",
    "# Add a new line (the old content will be erased)\n",
    "new_line='This line was added from python writing'\n",
    "fhand.write(new_line)\n",
    "\n",
    "# Save and close\n",
    "fhand.close()\n",
    "\n",
    "# Check the result\n",
    "fhand=open('file example.txt')\n",
    "content=fhand.read()\n",
    "content"
   ]
  },
  {
   "cell_type": "markdown",
   "metadata": {
    "code_folding": []
   },
   "source": [
    "# Write a new line to a file"
   ]
  },
  {
   "cell_type": "code",
   "execution_count": 39,
   "metadata": {},
   "outputs": [
    {
     "name": "stdout",
     "output_type": "stream",
     "text": [
      "This is the first line\n",
      "This is the second line\n",
      "\n"
     ]
    }
   ],
   "source": [
    "# Get the file handle in writing mode\n",
    "fhand=open('file example.txt', 'w')\n",
    "\n",
    "# Write a line\n",
    "fhand.write('This is the first line\\n')\n",
    "# Write a new line\n",
    "fhand.write('This is the second line\\n')\n",
    "\n",
    "# Save and close\n",
    "fhand.close()\n",
    "\n",
    "# Check the result\n",
    "fhand=open('file example.txt')\n",
    "content=fhand.read()\n",
    "print(content)"
   ]
  },
  {
   "cell_type": "code",
   "execution_count": null,
   "metadata": {},
   "outputs": [],
   "source": []
  }
 ],
 "metadata": {
  "kernelspec": {
   "display_name": "Python 3",
   "language": "python",
   "name": "python3"
  },
  "language_info": {
   "codemirror_mode": {
    "name": "ipython",
    "version": 3
   },
   "file_extension": ".py",
   "mimetype": "text/x-python",
   "name": "python",
   "nbconvert_exporter": "python",
   "pygments_lexer": "ipython3",
   "version": "3.8.5"
  },
  "toc": {
   "base_numbering": 1,
   "nav_menu": {},
   "number_sections": true,
   "sideBar": true,
   "skip_h1_title": false,
   "title_cell": "Table of Contents",
   "title_sidebar": "Contents",
   "toc_cell": false,
   "toc_position": {
    "height": "calc(100% - 180px)",
    "left": "10px",
    "top": "150px",
    "width": "292.273px"
   },
   "toc_section_display": true,
   "toc_window_display": true
  }
 },
 "nbformat": 4,
 "nbformat_minor": 4
}
