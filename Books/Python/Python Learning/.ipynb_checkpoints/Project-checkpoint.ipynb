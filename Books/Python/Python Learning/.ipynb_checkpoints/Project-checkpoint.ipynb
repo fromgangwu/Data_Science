{
 "cells": [
  {
   "cell_type": "markdown",
   "metadata": {},
   "source": [
    "# Create a receipt printing program"
   ]
  },
  {
   "cell_type": "code",
   "execution_count": 7,
   "metadata": {
    "scrolled": true
   },
   "outputs": [
    {
     "name": "stdout",
     "output_type": "stream",
     "text": [
      "**************************************************\n",
      "\t\tCoding Temple, Inc.\n",
      "\t\t283 Frankling St\n",
      "\t\tBoston, MA\n",
      "==================================================\n",
      "\tProduct Name\t\tPrice\n",
      "\tBooks\t\t\t$49.95\n",
      "\tComputer\t\t$579.99\n",
      "\tMonitor\t\t\t$124.89\n",
      "==================================================\n",
      "\t\t\tTotal\n",
      "\t\t\t$754.83\n",
      "==================================================\n",
      "\tThanks for shopping with us today!\n",
      "**************************************************\n"
     ]
    }
   ],
   "source": [
    "\n",
    "# The receipt shown in page 40 of Python Project for Beginners\n",
    "\n",
    "## Variables\n",
    "\n",
    "# The top border\n",
    "top_end_border='*'*50\n",
    "middle_border='='*50\n",
    "\n",
    "# Company information\n",
    "company_name='Coding Temple, Inc.'\n",
    "company_address_1='283 Frankling St'\n",
    "company_address_2='Boston, MA'\n",
    "\n",
    "# Product information\n",
    "product_1_name, product_1_price='Books', 49.95\n",
    "product_2_name, product_2_price=\"Computer\", 579.99\n",
    "product_3_name, product_3_price=\"Monitor\", 124.89\n",
    "\n",
    "# End message\n",
    "end_message='Thanks for shopping with us today!'\n",
    "\n",
    "## Print the receipt\n",
    "\n",
    "# Top border\n",
    "print(top_end_border)\n",
    "\n",
    "# Company information\n",
    "print('\\t\\t{}\\n\\t\\t{}\\n\\t\\t{}'.format(company_name, company_address_1, company_address_2))\n",
    "\n",
    "# Middle border\n",
    "print(middle_border)\n",
    "\n",
    "# Product information\n",
    "print('\\t{}\\t\\t{}'.format('Product Name', 'Price'))\n",
    "print('\\t{}\\t\\t\\t${}'.format(product_1_name, product_1_price))\n",
    "print('\\t{}\\t\\t${}'.format(product_2_name, product_2_price))\n",
    "print('\\t{}\\t\\t\\t${}'.format(product_3_name, product_3_price))\n",
    "\n",
    "# Middle border\n",
    "print(middle_border)\n",
    "\n",
    "# Total\n",
    "print('\\t\\t\\t{}\\n\\t\\t\\t${}'.format('Total',product_1_price+product_2_price+product_3_price))\n",
    "\n",
    "# Middle border\n",
    "print(middle_border)\n",
    "\n",
    "# End message \n",
    "print('\\t{}'.format(end_message))\n",
    "\n",
    "# End border \n",
    "print(top_end_border)\n",
    "\n"
   ]
  },
  {
   "cell_type": "code",
   "execution_count": null,
   "metadata": {},
   "outputs": [],
   "source": []
  }
 ],
 "metadata": {
  "kernelspec": {
   "display_name": "Python 3",
   "language": "python",
   "name": "python3"
  },
  "language_info": {
   "codemirror_mode": {
    "name": "ipython",
    "version": 3
   },
   "file_extension": ".py",
   "mimetype": "text/x-python",
   "name": "python",
   "nbconvert_exporter": "python",
   "pygments_lexer": "ipython3",
   "version": "3.8.5"
  }
 },
 "nbformat": 4,
 "nbformat_minor": 4
}
