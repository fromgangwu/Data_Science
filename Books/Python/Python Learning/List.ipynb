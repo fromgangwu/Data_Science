{
 "cells": [
  {
   "cell_type": "markdown",
   "metadata": {
    "hide_input": true
   },
   "source": [
    "# List can hold different data types"
   ]
  },
  {
   "cell_type": "code",
   "execution_count": null,
   "metadata": {
    "hide_input": true,
    "scrolled": true
   },
   "outputs": [],
   "source": [
    "list_example=[1,'string', True, ['this is a nested list']]\n",
    "print(list_example)"
   ]
  },
  {
   "cell_type": "markdown",
   "metadata": {},
   "source": [
    "# A list is ordered and can be indexed"
   ]
  },
  {
   "cell_type": "code",
   "execution_count": null,
   "metadata": {
    "hide_input": true,
    "scrolled": false
   },
   "outputs": [],
   "source": [
    "list_example=[1,'string', True, ['this is a nested list']]\n",
    "print(list_example[0])\n",
    "print(list_example[3][0])\n",
    "print(list_example[3][0][0])"
   ]
  },
  {
   "cell_type": "markdown",
   "metadata": {},
   "source": [
    "# A list is mutable"
   ]
  },
  {
   "cell_type": "code",
   "execution_count": null,
   "metadata": {
    "hide_input": true,
    "scrolled": true
   },
   "outputs": [],
   "source": [
    "list_example=[1,2,3,4]\n",
    "print(list_example)\n",
    "list_example[2]=100\n",
    "print(list_example)"
   ]
  },
  {
   "cell_type": "markdown",
   "metadata": {},
   "source": [
    "# Modify lists"
   ]
  },
  {
   "cell_type": "code",
   "execution_count": null,
   "metadata": {
    "code_folding": [],
    "hide_input": true
   },
   "outputs": [],
   "source": [
    "# Add items: append, insert\n",
    "list_1=[1,2,3]\n",
    "list_1.append('append')\n",
    "list_1.insert(0,'insert')\n",
    "print(list_1)\n",
    "\n",
    "# Remove items: pop, remvoe\n",
    "list_1.pop()\n",
    "list_1.remove('insert')\n",
    "print(list_1)"
   ]
  },
  {
   "cell_type": "markdown",
   "metadata": {},
   "source": [
    "# Sort list"
   ]
  },
  {
   "cell_type": "code",
   "execution_count": null,
   "metadata": {
    "hide_input": true
   },
   "outputs": [],
   "source": [
    "# Sort a list: use sorted to return a copy, use sort to work directly on the list\n",
    "sorted_list_1=sorted(list_1)\n",
    "list_1.sort()\n",
    "print(id(list_1),id(sorted_list_1))"
   ]
  },
  {
   "cell_type": "markdown",
   "metadata": {},
   "source": [
    "# max, min, sum for numerical lists"
   ]
  },
  {
   "cell_type": "code",
   "execution_count": 30,
   "metadata": {
    "scrolled": true
   },
   "outputs": [
    {
     "name": "stdout",
     "output_type": "stream",
     "text": [
      "tree ['_', '_', '_', '_']\n"
     ]
    }
   ],
   "source": [
    "### import additional functions\n",
    "from random import choice\n",
    "from IPython.display import clear_output\n",
    "\n",
    "### declare game variables\n",
    "words=[\"tree\", \"basket\", \"chair\", \"paper\", \"python\"]\n",
    "word=choice(words)\n",
    "guessed, lives, game_over=[],7,False\n",
    "\n",
    "### generating the hidden word\n",
    "guesses=['_']*len(word)\n",
    "\n",
    "### creating the game loop\n",
    "\n"
   ]
  },
  {
   "cell_type": "code",
   "execution_count": null,
   "metadata": {},
   "outputs": [],
   "source": []
  }
 ],
 "metadata": {
  "kernelspec": {
   "display_name": "Python 3 (ipykernel)",
   "language": "python",
   "name": "python3"
  },
  "language_info": {
   "codemirror_mode": {
    "name": "ipython",
    "version": 3
   },
   "file_extension": ".py",
   "mimetype": "text/x-python",
   "name": "python",
   "nbconvert_exporter": "python",
   "pygments_lexer": "ipython3",
   "version": "3.8.10"
  },
  "toc": {
   "base_numbering": 1,
   "nav_menu": {},
   "number_sections": true,
   "sideBar": true,
   "skip_h1_title": false,
   "title_cell": "Table of Contents",
   "title_sidebar": "Contents",
   "toc_cell": false,
   "toc_position": {
    "height": "calc(100% - 180px)",
    "left": "10px",
    "top": "150px",
    "width": "228.281px"
   },
   "toc_section_display": true,
   "toc_window_display": true
  }
 },
 "nbformat": 4,
 "nbformat_minor": 4
}
