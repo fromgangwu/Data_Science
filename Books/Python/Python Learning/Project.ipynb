{
 "cells": [
  {
   "cell_type": "markdown",
   "metadata": {},
   "source": [
    "# Create a receipt printing program"
   ]
  },
  {
   "cell_type": "code",
   "execution_count": 1,
   "metadata": {
    "scrolled": true
   },
   "outputs": [
    {
     "name": "stdout",
     "output_type": "stream",
     "text": [
      "**************************************************\n",
      "\t\tCoding Temple, Inc.\n",
      "\t\t283 Frankling St\n",
      "\t\tBoston, MA\n",
      "==================================================\n",
      "\tProduct Name\t\tPrice\n",
      "\tBooks\t\t\t$49.95\n",
      "\tComputer\t\t$579.99\n",
      "\tMonitor\t\t\t$124.89\n",
      "==================================================\n",
      "\t\t\tTotal\n",
      "\t\t\t$754.83\n",
      "==================================================\n",
      "\tThanks for shopping with us today!\n",
      "**************************************************\n"
     ]
    }
   ],
   "source": [
    "\n",
    "# The receipt shown in page 40 of Python Project for Beginners\n",
    "\n",
    "## Variables\n",
    "\n",
    "# The top border\n",
    "top_end_border='*'*50\n",
    "middle_border='='*50\n",
    "\n",
    "# Company information\n",
    "company_name='Coding Temple, Inc.'\n",
    "company_address_1='283 Frankling St'\n",
    "company_address_2='Boston, MA'\n",
    "\n",
    "# Product information\n",
    "product_1_name, product_1_price='Books', 49.95\n",
    "product_2_name, product_2_price=\"Computer\", 579.99\n",
    "product_3_name, product_3_price=\"Monitor\", 124.89\n",
    "\n",
    "# End message\n",
    "end_message='Thanks for shopping with us today!'\n",
    "\n",
    "## Print the receipt\n",
    "\n",
    "# Top border\n",
    "print(top_end_border)\n",
    "\n",
    "# Company information\n",
    "print('\\t\\t{}\\n\\t\\t{}\\n\\t\\t{}'.format(company_name, company_address_1, company_address_2))\n",
    "\n",
    "# Middle border\n",
    "print(middle_border)\n",
    "\n",
    "# Product information\n",
    "print('\\t{}\\t\\t{}'.format('Product Name', 'Price'))\n",
    "print('\\t{}\\t\\t\\t${}'.format(product_1_name, product_1_price))\n",
    "print('\\t{}\\t\\t${}'.format(product_2_name, product_2_price))\n",
    "print('\\t{}\\t\\t\\t${}'.format(product_3_name, product_3_price))\n",
    "\n",
    "# Middle border\n",
    "print(middle_border)\n",
    "\n",
    "# Total\n",
    "print('\\t\\t\\t{}\\n\\t\\t\\t${}'.format('Total',product_1_price+product_2_price+product_3_price))\n",
    "\n",
    "# Middle border\n",
    "print(middle_border)\n",
    "\n",
    "# End message \n",
    "print('\\t{}'.format(end_message))\n",
    "\n",
    "# End border \n",
    "print(top_end_border)\n",
    "\n"
   ]
  },
  {
   "cell_type": "markdown",
   "metadata": {},
   "source": [
    "# Create a calculator"
   ]
  },
  {
   "cell_type": "code",
   "execution_count": 1,
   "metadata": {},
   "outputs": [
    {
     "name": "stdout",
     "output_type": "stream",
     "text": [
      "Which calculation you would like to perform:plus, minus, times or devidingplus\n",
      "Please enter the first number for the calculation.12\n",
      "Please enter the second number for the calculation.13\n",
      "The answer is:25.0\n"
     ]
    }
   ],
   "source": [
    "cal_type=input('Which calculation you would like to perform:'\n",
    "                'plus, minus, times or deviding')\n",
    "number_1=input('Please enter the first number for the calculation.')\n",
    "number_2=input('Please enter the second number for the calculation.')\n",
    "               \n",
    "try:\n",
    "    if cal_type=='plus':\n",
    "        print('The answer is:{}'.format(float(number_1)+float(number_2)))\n",
    "    elif cal_type=='minus':\n",
    "        print('The answer is:{}'.format(float(number_1)-float(number_2)))\n",
    "    elif cal_type== 'times':\n",
    "        print('The answer is:{}'.format(float(number_1)*float(number_2)))\n",
    "    elif cal_type=='deviding':\n",
    "        print('The answer is:{}'.format(float(number_1)/float(number_2)))\n",
    "    else:\n",
    "        print('Please enter a correct calculation type')\n",
    "except:\n",
    "    print('Please enter numbers.')"
   ]
  },
  {
   "cell_type": "markdown",
   "metadata": {},
   "source": [
    "# Hangman game"
   ]
  },
  {
   "cell_type": "code",
   "execution_count": 2,
   "metadata": {
    "code_folding": []
   },
   "outputs": [
    {
     "ename": "SyntaxError",
     "evalue": "unexpected EOF while parsing (3682669693.py, line 17)",
     "output_type": "error",
     "traceback": [
      "\u001b[0;36m  Input \u001b[0;32mIn [2]\u001b[0;36m\u001b[0m\n\u001b[0;31m    \u001b[0m\n\u001b[0m    ^\u001b[0m\n\u001b[0;31mSyntaxError\u001b[0m\u001b[0;31m:\u001b[0m unexpected EOF while parsing\n"
     ]
    }
   ],
   "source": [
    "#### Import additional functions\n",
    "from random import choice\n",
    "from IPython.display import clear_output\n",
    "\n",
    "#### Declaring variables\n",
    "words=[\"tree\", \"basket\", \"chair\", \"paper\", \"python\"]\n",
    "word=choice(words)\n",
    "guessed, lives, game_over=[],7,False\n",
    "\n",
    "#### Generating the hidden word\n",
    "guesses=['_']*len(word)\n",
    "\n",
    "#### Main game loop\n",
    "while not game_over:\n",
    "    ans=input('Type quit or guess a letter:').lower()\n",
    "    if ans=='quit':\n",
    "        print('Thanks for playing the game. Good bye.')\n",
    "        game_over==True\n",
    "    elif ans in word:\n",
    "        print('You guessed it correctly')\n",
    "    else:\n",
    "        lives=lives-1\n",
    "        print('Incorrect, you lose a life.')\n",
    "        \n",
    "   \n",
    "        hidden_word=''.join(guesses)\n",
    "        print('Word to guess:{}'.format(hidden_word))\n",
    "        print('Lives:{}'.format(lives))\n",
    "        \n",
    "        \n",
    "\n"
   ]
  },
  {
   "cell_type": "code",
   "execution_count": null,
   "metadata": {},
   "outputs": [],
   "source": []
  }
 ],
 "metadata": {
  "kernelspec": {
   "display_name": "Python 3 (ipykernel)",
   "language": "python",
   "name": "python3"
  },
  "language_info": {
   "codemirror_mode": {
    "name": "ipython",
    "version": 3
   },
   "file_extension": ".py",
   "mimetype": "text/x-python",
   "name": "python",
   "nbconvert_exporter": "python",
   "pygments_lexer": "ipython3",
   "version": "3.8.10"
  },
  "toc": {
   "base_numbering": 1,
   "nav_menu": {},
   "number_sections": true,
   "sideBar": true,
   "skip_h1_title": false,
   "title_cell": "Table of Contents",
   "title_sidebar": "Contents",
   "toc_cell": false,
   "toc_position": {
    "height": "calc(100% - 180px)",
    "left": "10px",
    "top": "150px",
    "width": "165px"
   },
   "toc_section_display": true,
   "toc_window_display": true
  }
 },
 "nbformat": 4,
 "nbformat_minor": 4
}
