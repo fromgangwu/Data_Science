{
 "cells": [
  {
   "cell_type": "markdown",
   "metadata": {
    "hide_input": true
   },
   "source": [
    "# String"
   ]
  },
  {
   "cell_type": "code",
   "execution_count": 1,
   "metadata": {
    "hide_input": false
   },
   "outputs": [
    {
     "name": "stdout",
     "output_type": "stream",
     "text": [
      "140420878123184 140420878123184 140420878123184\n",
      "140420878123312 140420878123184 140420878123184\n"
     ]
    }
   ],
   "source": [
    "'''\n",
    "Assign a string to different variables\n",
    "will let these variables all point to the string\n",
    "\n",
    "'''\n",
    "\n",
    "string_1='good'\n",
    "string_2='good'\n",
    "string_3=string_1\n",
    "print(id(string_1), id(string_2),id(string_3))\n",
    "\n",
    "\n",
    "'''\n",
    "Change a variable will let it point to a new string\n",
    "'''\n",
    "\n",
    "string_1='goose'\n",
    "print(id(string_1),id(string_2),id(string_3))"
   ]
  },
  {
   "cell_type": "markdown",
   "metadata": {},
   "source": [
    "# List"
   ]
  },
  {
   "cell_type": "code",
   "execution_count": null,
   "metadata": {
    "hide_input": false
   },
   "outputs": [],
   "source": [
    "'''\n",
    "Assign a list to different variables will let these variables point to different locations\n",
    "\n",
    "'''\n",
    "list_1=[1,2,3,4,5]\n",
    "list_2=[1,2,3,4,5]\n",
    "list_3=[1,2,3,4,5]\n",
    "print(id(list_1), id(list_2),id(list_3))\n",
    "\n",
    "\n",
    "'''\n",
    "Assign a variable to another will let the two variables point to the same location\n",
    "'''\n",
    "list_3=list_1\n",
    "print(id(list_1), id(list_2),id(list_3))\n",
    "\n",
    "\n",
    "'''\n",
    "Mutate a stored list will not change its location\n",
    "'''\n",
    "list_1.append('hello')\n",
    "list_2[0]=-100\n",
    "list_3.insert(1,'hi')\n",
    "print(id(list_1), id(list_2),id(list_3))\n",
    "print(list_1,list_2,list_3)\n",
    "\n",
    "\n",
    "'''\n",
    "List can be copy to a different location \n",
    "'''\n",
    "list_4=list_3.copy()\n",
    "print(id(list_1), id(list_2),id(list_3),id(list_4))\n",
    "list_4.append('add one to the end to make it different')\n",
    "print(list_3,list_4)\n"
   ]
  },
  {
   "cell_type": "markdown",
   "metadata": {},
   "source": [
    "\n",
    "# Dictionary"
   ]
  },
  {
   "cell_type": "code",
   "execution_count": 2,
   "metadata": {
    "code_folding": [],
    "hide_input": false
   },
   "outputs": [
    {
     "name": "stdout",
     "output_type": "stream",
     "text": [
      "140107808239296 140107808239232 140107808239296\n"
     ]
    }
   ],
   "source": [
    "dic_1={'one':1, 'two':2}\n",
    "dic_2={'one':1, 'two':2}\n",
    "dic_3=dic_1\n",
    "print(id(dic_1),id(dic_2),id(dic_3))"
   ]
  },
  {
   "cell_type": "markdown",
   "metadata": {},
   "source": [
    "# Class"
   ]
  },
  {
   "cell_type": "code",
   "execution_count": 15,
   "metadata": {
    "scrolled": true
   },
   "outputs": [
    {
     "name": "stdout",
     "output_type": "stream",
     "text": [
      "140107808107680 140107808107152 140107808107680\n"
     ]
    }
   ],
   "source": [
    "class car():\n",
    "    length=[]\n",
    "    price=[]   \n",
    "        \n",
    "ford=car()\n",
    "mini=car()\n",
    "ford_1=ford\n",
    "print(id(ford),id(mini),id(ford_1))\n"
   ]
  },
  {
   "cell_type": "code",
   "execution_count": 2,
   "metadata": {},
   "outputs": [
    {
     "name": "stdout",
     "output_type": "stream",
     "text": [
      "a b\n"
     ]
    }
   ],
   "source": [
    "string_1='a'\n",
    "string_2=string_1\n",
    "string_2='b'\n",
    "print(string_1, string_2)\n"
   ]
  },
  {
   "cell_type": "code",
   "execution_count": null,
   "metadata": {},
   "outputs": [],
   "source": []
  }
 ],
 "metadata": {
  "kernelspec": {
   "display_name": "Python 3",
   "language": "python",
   "name": "python3"
  },
  "language_info": {
   "codemirror_mode": {
    "name": "ipython",
    "version": 3
   },
   "file_extension": ".py",
   "mimetype": "text/x-python",
   "name": "python",
   "nbconvert_exporter": "python",
   "pygments_lexer": "ipython3",
   "version": "3.8.5"
  },
  "toc": {
   "base_numbering": 1,
   "nav_menu": {},
   "number_sections": true,
   "sideBar": true,
   "skip_h1_title": false,
   "title_cell": "Table of Contents",
   "title_sidebar": "Contents",
   "toc_cell": false,
   "toc_position": {
    "height": "calc(100% - 180px)",
    "left": "10px",
    "top": "150px",
    "width": "165px"
   },
   "toc_section_display": true,
   "toc_window_display": true
  }
 },
 "nbformat": 4,
 "nbformat_minor": 4
}
